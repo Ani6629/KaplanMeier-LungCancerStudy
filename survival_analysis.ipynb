{
 "cells": [
  {
   "cell_type": "markdown",
   "id": "68257604",
   "metadata": {},
   "source": [
    "**Required packages**\n",
    "lifelines\n",
    "wheel\n",
    "pandas"
   ]
  },
  {
   "cell_type": "code",
   "execution_count": 11,
   "id": "929845c7",
   "metadata": {},
   "outputs": [],
   "source": [
    "import  pandas as pd"
   ]
  },
  {
   "cell_type": "code",
   "execution_count": null,
   "id": "894fe315",
   "metadata": {},
   "outputs": [],
   "source": [
    "dataset = pd.read_csv(\"lung.csv\")\n",
    "dataset.head()"
   ]
  },
  {
   "cell_type": "code",
   "execution_count": 22,
   "id": "04a38a31",
   "metadata": {},
   "outputs": [
    {
     "data": {
      "text/html": [
       "<div>\n",
       "<style scoped>\n",
       "    .dataframe tbody tr th:only-of-type {\n",
       "        vertical-align: middle;\n",
       "    }\n",
       "\n",
       "    .dataframe tbody tr th {\n",
       "        vertical-align: top;\n",
       "    }\n",
       "\n",
       "    .dataframe thead th {\n",
       "        text-align: right;\n",
       "    }\n",
       "</style>\n",
       "<table border=\"1\" class=\"dataframe\">\n",
       "  <thead>\n",
       "    <tr style=\"text-align: right;\">\n",
       "      <th></th>\n",
       "      <th>inst</th>\n",
       "      <th>time</th>\n",
       "      <th>status</th>\n",
       "      <th>age</th>\n",
       "      <th>sex</th>\n",
       "      <th>ph.ecog</th>\n",
       "      <th>ph.karno</th>\n",
       "      <th>pat.karno</th>\n",
       "      <th>meal.cal</th>\n",
       "      <th>wt.loss</th>\n",
       "    </tr>\n",
       "  </thead>\n",
       "  <tbody>\n",
       "    <tr>\n",
       "      <th>0</th>\n",
       "      <td>3.0</td>\n",
       "      <td>306</td>\n",
       "      <td>1</td>\n",
       "      <td>74</td>\n",
       "      <td>1</td>\n",
       "      <td>1.0</td>\n",
       "      <td>90.0</td>\n",
       "      <td>100.0</td>\n",
       "      <td>1175.0</td>\n",
       "      <td>NaN</td>\n",
       "    </tr>\n",
       "    <tr>\n",
       "      <th>1</th>\n",
       "      <td>3.0</td>\n",
       "      <td>455</td>\n",
       "      <td>1</td>\n",
       "      <td>68</td>\n",
       "      <td>1</td>\n",
       "      <td>0.0</td>\n",
       "      <td>90.0</td>\n",
       "      <td>90.0</td>\n",
       "      <td>1225.0</td>\n",
       "      <td>15.0</td>\n",
       "    </tr>\n",
       "    <tr>\n",
       "      <th>2</th>\n",
       "      <td>3.0</td>\n",
       "      <td>1010</td>\n",
       "      <td>0</td>\n",
       "      <td>56</td>\n",
       "      <td>1</td>\n",
       "      <td>0.0</td>\n",
       "      <td>90.0</td>\n",
       "      <td>90.0</td>\n",
       "      <td>NaN</td>\n",
       "      <td>15.0</td>\n",
       "    </tr>\n",
       "    <tr>\n",
       "      <th>3</th>\n",
       "      <td>5.0</td>\n",
       "      <td>210</td>\n",
       "      <td>1</td>\n",
       "      <td>57</td>\n",
       "      <td>1</td>\n",
       "      <td>1.0</td>\n",
       "      <td>90.0</td>\n",
       "      <td>60.0</td>\n",
       "      <td>1150.0</td>\n",
       "      <td>11.0</td>\n",
       "    </tr>\n",
       "    <tr>\n",
       "      <th>4</th>\n",
       "      <td>1.0</td>\n",
       "      <td>883</td>\n",
       "      <td>1</td>\n",
       "      <td>60</td>\n",
       "      <td>1</td>\n",
       "      <td>0.0</td>\n",
       "      <td>100.0</td>\n",
       "      <td>90.0</td>\n",
       "      <td>NaN</td>\n",
       "      <td>0.0</td>\n",
       "    </tr>\n",
       "  </tbody>\n",
       "</table>\n",
       "</div>"
      ],
      "text/plain": [
       "   inst  time  status  age  sex  ph.ecog  ph.karno  pat.karno  meal.cal  \\\n",
       "0   3.0   306       1   74    1      1.0      90.0      100.0    1175.0   \n",
       "1   3.0   455       1   68    1      0.0      90.0       90.0    1225.0   \n",
       "2   3.0  1010       0   56    1      0.0      90.0       90.0       NaN   \n",
       "3   5.0   210       1   57    1      1.0      90.0       60.0    1150.0   \n",
       "4   1.0   883       1   60    1      0.0     100.0       90.0       NaN   \n",
       "\n",
       "   wt.loss  \n",
       "0      NaN  \n",
       "1     15.0  \n",
       "2     15.0  \n",
       "3     11.0  \n",
       "4      0.0  "
      ]
     },
     "execution_count": 22,
     "metadata": {},
     "output_type": "execute_result"
    }
   ],
   "source": [
    "#data transformation\n",
    "dataset.loc[dataset.status == 1, \"status\"] = 0\n",
    "dataset.loc[dataset.status == 2, \"status\"] = 1\n",
    "dataset.head()"
   ]
  },
  {
   "cell_type": "markdown",
   "id": "582f2f4b",
   "metadata": {},
   "source": [
    "The Kaplan-Meier estimator operates as a tool for computing the probability of a particular entity enduring beyond a specified timeframe. Its application ranges across various scenarios, including determining the survival rate after a diagnosis, predicting the likelihood of a customer re-engaging after their last purchase or anticipating the renewal rate after a subscription cessation.\n",
    "\n",
    "This estimator focuses on the calculation of probabilities pertaining to various outcomes. For instance, in a medical context, it may calculate the probability of a patient's survival; in a business setting, it can provide insights on customer retention or subscription renewal rates. The Kaplan-Meier estimator is particularly renowned for its frequent use in medical research.\n",
    "\n",
    "The estimator's graphical representation typically exhibits an 'S'-shaped curve, characterizing the survival probabilities over time. The underlying formula for the Kaplan-Meier estimator is given by P(time) = P(time - 1) * (1 - (number of events at time/ number of survivors)), which portrays the dependency of survival probability on the prior timeframe.\n",
    "\n",
    "The difference in estimates, or the 'gap', is understood as the probability of enduring the current day, contingent upon survival in the preceding timeframe. Hence, the probability of survival in the current day will not exceed that of the previous day.\n",
    "\n",
    "Over time, there's an observable decline in survival likelihood when you amalgamate the probabilities across all days. This cumulative effect gives rise to the characteristic survival curve, which mirrors the one depicted here."
   ]
  },
  {
   "cell_type": "markdown",
   "id": "9076b9f6",
   "metadata": {},
   "source": [
    "Censoring is a key concept in survival analysis, with three predominant types: right censoring, left censoring, and interval censoring.\n",
    "\n",
    "Right censoring is the most prevalent form of censoring in survival analysis. It signifies a scenario where an event is yet to occur or is yet to be observed within a study period. For instance, a person is considered alive until their death is recorded, or a customer is assumed active until the end of their subscription. The precise occurrence time of these events remains uncertain until they transpire, hence the term 'right censoring'.\n",
    "\n",
    "Left censoring, on the other hand, refers to situations where the commencement of the event or condition under study is unknown or unrecorded. An example might be a disease that began before the patient was included in the study or a customer's subscription that started prior to the data collection period. The primary point of reference is thus the moment of first record, which acts as the 'starting point' for left-censored data.\n",
    "\n",
    "Interval censoring is another variant, frequently encountered outside of digital environments where data tracking may not be as precise. Consider a traditional brick-and-mortar store where customer data isn't continuously monitored or recorded. It's challenging to accurately discern customer churn, as you're unaware of their activities unless a purchase transaction or other recordable event occurs. In these cases, you only know that the event happened within a certain interval, hence the term 'interval censoring'. This type of censoring captures the uncertainty around the exact time of event occurrence, which can be anywhere within a particular time interval."
   ]
  },
  {
   "cell_type": "code",
   "execution_count": 28,
   "id": "f198c531",
   "metadata": {},
   "outputs": [
    {
     "data": {
      "text/html": [
       "<div>\n",
       "<style scoped>\n",
       "    .dataframe tbody tr th:only-of-type {\n",
       "        vertical-align: middle;\n",
       "    }\n",
       "\n",
       "    .dataframe tbody tr th {\n",
       "        vertical-align: top;\n",
       "    }\n",
       "\n",
       "    .dataframe thead th {\n",
       "        text-align: right;\n",
       "    }\n",
       "</style>\n",
       "<table border=\"1\" class=\"dataframe\">\n",
       "  <thead>\n",
       "    <tr style=\"text-align: right;\">\n",
       "      <th></th>\n",
       "      <th>removed</th>\n",
       "      <th>observed</th>\n",
       "      <th>censored</th>\n",
       "      <th>entrance</th>\n",
       "      <th>at_risk</th>\n",
       "    </tr>\n",
       "    <tr>\n",
       "      <th>event_at</th>\n",
       "      <th></th>\n",
       "      <th></th>\n",
       "      <th></th>\n",
       "      <th></th>\n",
       "      <th></th>\n",
       "    </tr>\n",
       "  </thead>\n",
       "  <tbody>\n",
       "    <tr>\n",
       "      <th>0.0</th>\n",
       "      <td>0</td>\n",
       "      <td>0</td>\n",
       "      <td>0</td>\n",
       "      <td>228</td>\n",
       "      <td>228</td>\n",
       "    </tr>\n",
       "    <tr>\n",
       "      <th>5.0</th>\n",
       "      <td>1</td>\n",
       "      <td>1</td>\n",
       "      <td>0</td>\n",
       "      <td>0</td>\n",
       "      <td>228</td>\n",
       "    </tr>\n",
       "    <tr>\n",
       "      <th>11.0</th>\n",
       "      <td>3</td>\n",
       "      <td>3</td>\n",
       "      <td>0</td>\n",
       "      <td>0</td>\n",
       "      <td>227</td>\n",
       "    </tr>\n",
       "    <tr>\n",
       "      <th>12.0</th>\n",
       "      <td>1</td>\n",
       "      <td>1</td>\n",
       "      <td>0</td>\n",
       "      <td>0</td>\n",
       "      <td>224</td>\n",
       "    </tr>\n",
       "  </tbody>\n",
       "</table>\n",
       "</div>"
      ],
      "text/plain": [
       "          removed  observed  censored  entrance  at_risk\n",
       "event_at                                                \n",
       "0.0             0         0         0       228      228\n",
       "5.0             1         1         0         0      228\n",
       "11.0            3         3         0         0      227\n",
       "12.0            1         1         0         0      224"
      ]
     },
     "execution_count": 28,
     "metadata": {},
     "output_type": "execute_result"
    }
   ],
   "source": [
    "#kaplan meier estimator\n",
    "from lifelines import KaplanMeierFitter\n",
    "model = KaplanMeierFitter()\n",
    "model.fit(durations = dataset.time, event_observed = dataset.status)\n",
    "model.event_table.head(4)"
   ]
  },
  {
   "cell_type": "code",
   "execution_count": 32,
   "id": "0e7feac0",
   "metadata": {},
   "outputs": [
    {
     "name": "stdout",
     "output_type": "stream",
     "text": [
      "removed       1\n",
      "observed      1\n",
      "censored      0\n",
      "entrance      0\n",
      "at_risk     228\n",
      "Name: 5.0, dtype: int64\n",
      "0.9956140350877193\n",
      "0.986784140969163\n"
     ]
    }
   ],
   "source": [
    "#calculation for specific events\n",
    "\n",
    "day_5 = model.event_table.iloc[1, :]\n",
    "print(day_5)\n",
    "surv_5 = 1 * (1- day_5.observed / day_5.at_risk)\n",
    "print(surv_5)\n",
    "day_11 = model.event_table.iloc[2, :]\n",
    "surv_11 = 1 * (1- day_11.observed / day_11.at_risk)\n",
    "print(surv_11)"
   ]
  },
  {
   "cell_type": "code",
   "execution_count": 34,
   "id": "b9f13d5e",
   "metadata": {},
   "outputs": [
    {
     "name": "stdout",
     "output_type": "stream",
     "text": [
      "0.986784140969163\n"
     ]
    }
   ],
   "source": [
    "# approximation\n",
    "surv_11_approx = (day_11.at_risk - day_11.observed)/ day_11.at_risk\n",
    "print(surv_11_approx)"
   ]
  },
  {
   "cell_type": "code",
   "execution_count": 40,
   "id": "c3b5b9e2",
   "metadata": {},
   "outputs": [
    {
     "data": {
      "text/plain": [
       "Text(0, 0.5, 'Survival')"
      ]
     },
     "execution_count": 40,
     "metadata": {},
     "output_type": "execute_result"
    },
    {
     "data": {
      "image/png": "[encoded data removed]",
      "text/plain": [
       "<Figure size 1000x600 with 1 Axes>"
      ]
     },
     "metadata": {},
     "output_type": "display_data"
    }
   ],
   "source": [
    "#visualization\n",
    "#plotting Kaplan_meire\n",
    "import matplotlib.pyplot as plt\n",
    "model.plot(figsize = (10,6))\n",
    "plt.title(\"Kaplan-Meire\")\n",
    "plt.xlabel(\"Days\")\n",
    "plt.ylabel(\"Survival\")"
   ]
  },
  {
   "cell_type": "markdown",
   "id": "06fbf4b8",
   "metadata": {},
   "source": [
    "It is not the sharp S shaped curve. But you definitely see here that there is some curving at least on the lower part of the graph. And one of the things here is that, you know, at least it's pretty much linear in a way, the survival or the evolution of this survival probability.And up until it really starts to curve and I'm going to say around this five percent, and that would be that five percent of the people that had lung cancer, they actually managed to survive. Pretty scary statistic, but unfortunately, that is life."
   ]
  },
  {
   "cell_type": "code",
   "execution_count": 41,
   "id": "0e8fc70f",
   "metadata": {},
   "outputs": [
    {
     "data": {
      "text/plain": [
       "Text(0, 0.5, 'Survival')"
      ]
     },
     "execution_count": 41,
     "metadata": {},
     "output_type": "execute_result"
    },
    {
     "data": {
      "image/png": "[encoded data removed]",
      "text/plain": [
       "<Figure size 1000x600 with 1 Axes>"
      ]
     },
     "metadata": {},
     "output_type": "display_data"
    }
   ],
   "source": [
    "import matplotlib.pyplot as plt\n",
    "model.plot_cumulative_density(figsize = (10,6))\n",
    "plt.title(\"Cumulative deaths\")\n",
    "plt.xlabel(\"Days\")\n",
    "plt.ylabel(\"Survival\")"
   ]
  },
  {
   "cell_type": "markdown",
   "id": "14b31658",
   "metadata": {},
   "source": [
    "So this is cumulative deaths that have occurred and it's just a different way of looking at it so that in the end you actually get something that's 100 percent because it is really about the total amount that assorting."
   ]
  },
  {
   "cell_type": "markdown",
   "id": "5da2d9e6",
   "metadata": {},
   "source": [
    "The Log Rank Test is a statistical hypothesis test that is employed to compare survival distributions of two or more groups. Its main aim is to determine whether there are significant differences in the survival experiences of these groups.\n",
    "\n",
    "The null hypothesis for the Log Rank Test posits that there is no difference between the groups in terms of survival times. In other words, it assumes that the probability of an event (such as death or failure) occurring at any point in time is the same for all groups being compared.\n",
    "\n",
    "The decision to accept or reject this null hypothesis is based on the p-value obtained from the test. A p-value greater than the conventional significance level of 0.05 would lead us to fail to reject the null hypothesis. This implies that the survival experiences of the two groups are not significantly different from each other.\n",
    "\n",
    "Conversely, if the p-value is less than 0.05, we would reject the null hypothesis. This suggests that there is a statistically significant difference in the survival experiences between the groups being compared. Therefore, the p-value acts as the threshold that helps us decide whether the observed differences in survival are due to chance or reflect genuine differences between the groups."
   ]
  },
  {
   "cell_type": "code",
   "execution_count": 42,
   "id": "ba8d5b3e",
   "metadata": {},
   "outputs": [
    {
     "data": {
      "text/html": [
       "<div>\n",
       "<style scoped>\n",
       "    .dataframe tbody tr th:only-of-type {\n",
       "        vertical-align: middle;\n",
       "    }\n",
       "\n",
       "    .dataframe tbody tr th {\n",
       "        vertical-align: top;\n",
       "    }\n",
       "\n",
       "    .dataframe thead th {\n",
       "        text-align: right;\n",
       "    }\n",
       "</style>\n",
       "<table border=\"1\" class=\"dataframe\">\n",
       "  <thead>\n",
       "    <tr style=\"text-align: right;\">\n",
       "      <th></th>\n",
       "      <th>inst</th>\n",
       "      <th>time</th>\n",
       "      <th>status</th>\n",
       "      <th>age</th>\n",
       "      <th>sex</th>\n",
       "      <th>ph.ecog</th>\n",
       "      <th>ph.karno</th>\n",
       "      <th>pat.karno</th>\n",
       "      <th>meal.cal</th>\n",
       "      <th>wt.loss</th>\n",
       "    </tr>\n",
       "  </thead>\n",
       "  <tbody>\n",
       "    <tr>\n",
       "      <th>6</th>\n",
       "      <td>7.0</td>\n",
       "      <td>310</td>\n",
       "      <td>1</td>\n",
       "      <td>68</td>\n",
       "      <td>2</td>\n",
       "      <td>2.0</td>\n",
       "      <td>70.0</td>\n",
       "      <td>60.0</td>\n",
       "      <td>384.0</td>\n",
       "      <td>10.0</td>\n",
       "    </tr>\n",
       "    <tr>\n",
       "      <th>7</th>\n",
       "      <td>11.0</td>\n",
       "      <td>361</td>\n",
       "      <td>1</td>\n",
       "      <td>71</td>\n",
       "      <td>2</td>\n",
       "      <td>2.0</td>\n",
       "      <td>60.0</td>\n",
       "      <td>80.0</td>\n",
       "      <td>538.0</td>\n",
       "      <td>1.0</td>\n",
       "    </tr>\n",
       "    <tr>\n",
       "      <th>11</th>\n",
       "      <td>16.0</td>\n",
       "      <td>654</td>\n",
       "      <td>1</td>\n",
       "      <td>68</td>\n",
       "      <td>2</td>\n",
       "      <td>2.0</td>\n",
       "      <td>70.0</td>\n",
       "      <td>70.0</td>\n",
       "      <td>NaN</td>\n",
       "      <td>23.0</td>\n",
       "    </tr>\n",
       "    <tr>\n",
       "      <th>12</th>\n",
       "      <td>11.0</td>\n",
       "      <td>728</td>\n",
       "      <td>1</td>\n",
       "      <td>68</td>\n",
       "      <td>2</td>\n",
       "      <td>1.0</td>\n",
       "      <td>90.0</td>\n",
       "      <td>90.0</td>\n",
       "      <td>NaN</td>\n",
       "      <td>5.0</td>\n",
       "    </tr>\n",
       "    <tr>\n",
       "      <th>18</th>\n",
       "      <td>1.0</td>\n",
       "      <td>61</td>\n",
       "      <td>1</td>\n",
       "      <td>56</td>\n",
       "      <td>2</td>\n",
       "      <td>2.0</td>\n",
       "      <td>60.0</td>\n",
       "      <td>60.0</td>\n",
       "      <td>238.0</td>\n",
       "      <td>10.0</td>\n",
       "    </tr>\n",
       "  </tbody>\n",
       "</table>\n",
       "</div>"
      ],
      "text/plain": [
       "    inst  time  status  age  sex  ph.ecog  ph.karno  pat.karno  meal.cal  \\\n",
       "6    7.0   310       1   68    2      2.0      70.0       60.0     384.0   \n",
       "7   11.0   361       1   71    2      2.0      60.0       80.0     538.0   \n",
       "11  16.0   654       1   68    2      2.0      70.0       70.0       NaN   \n",
       "12  11.0   728       1   68    2      1.0      90.0       90.0       NaN   \n",
       "18   1.0    61       1   56    2      2.0      60.0       60.0     238.0   \n",
       "\n",
       "    wt.loss  \n",
       "6      10.0  \n",
       "7       1.0  \n",
       "11     23.0  \n",
       "12      5.0  \n",
       "18     10.0  "
      ]
     },
     "execution_count": 42,
     "metadata": {},
     "output_type": "execute_result"
    }
   ],
   "source": [
    "# Male vs Female\n",
    "male = dataset.query(\"sex == 1\")\n",
    "male.head()\n",
    "female = dataset.query(\"sex == 2\")\n",
    "female.head()"
   ]
  },
  {
   "cell_type": "code",
   "execution_count": 46,
   "id": "1399ec4a",
   "metadata": {},
   "outputs": [
    {
     "data": {
      "text/plain": [
       "<lifelines.KaplanMeierFitter:\"KM_estimate\", fitted with 90 total observations, 37 right-censored observations>"
      ]
     },
     "execution_count": 46,
     "metadata": {},
     "output_type": "execute_result"
    }
   ],
   "source": [
    "#Kaplan-Meier per gender\n",
    "model_male = KaplanMeierFitter()\n",
    "model_male.fit(durations = male.time, event_observed = male.status)\n",
    "model_female = KaplanMeierFitter()\n",
    "model_female.fit(durations = female.time, event_observed = female.status)"
   ]
  },
  {
   "cell_type": "code",
   "execution_count": 49,
   "id": "67954c68",
   "metadata": {},
   "outputs": [
    {
     "data": {
      "text/plain": [
       "Text(0, 0.5, 'Survival')"
      ]
     },
     "execution_count": 49,
     "metadata": {},
     "output_type": "execute_result"
    },
    {
     "data": {
      "image/png": "[encoded data removed]",
      "text/plain": [
       "<Figure size 1000x600 with 1 Axes>"
      ]
     },
     "metadata": {},
     "output_type": "display_data"
    }
   ],
   "source": [
    "model_male.plot(figsize = (10,6), label = \"male\")\n",
    "model_female.plot(label = \"female\")\n",
    "plt.title(\"Kaplan Meier\")\n",
    "plt.xlabel(\"Days\")\n",
    "plt.ylabel(\"Survival\")"
   ]
  },
  {
   "cell_type": "code",
   "execution_count": 52,
   "id": "3d1852ba",
   "metadata": {},
   "outputs": [
    {
     "data": {
      "text/html": [
       "<div>\n",
       "<style scoped>\n",
       "    .dataframe tbody tr th:only-of-type {\n",
       "        vertical-align: middle;\n",
       "    }\n",
       "\n",
       "    .dataframe tbody tr th {\n",
       "        vertical-align: top;\n",
       "    }\n",
       "\n",
       "    .dataframe thead th {\n",
       "        text-align: right;\n",
       "    }\n",
       "</style>\n",
       "<table border=\"1\" class=\"dataframe\">\n",
       "  <tbody>\n",
       "    <tr>\n",
       "      <th>t_0</th>\n",
       "      <td>-1</td>\n",
       "    </tr>\n",
       "    <tr>\n",
       "      <th>null_distribution</th>\n",
       "      <td>chi squared</td>\n",
       "    </tr>\n",
       "    <tr>\n",
       "      <th>degrees_of_freedom</th>\n",
       "      <td>1</td>\n",
       "    </tr>\n",
       "    <tr>\n",
       "      <th>test_name</th>\n",
       "      <td>logrank_test</td>\n",
       "    </tr>\n",
       "  </tbody>\n",
       "</table>\n",
       "</div><table border=\"1\" class=\"dataframe\">\n",
       "  <thead>\n",
       "    <tr style=\"text-align: right;\">\n",
       "      <th></th>\n",
       "      <th>test_statistic</th>\n",
       "      <th>p</th>\n",
       "      <th>-log2(p)</th>\n",
       "    </tr>\n",
       "  </thead>\n",
       "  <tbody>\n",
       "    <tr>\n",
       "      <th>0</th>\n",
       "      <td>10.33</td>\n",
       "      <td>&lt;0.005</td>\n",
       "      <td>9.57</td>\n",
       "    </tr>\n",
       "  </tbody>\n",
       "</table>"
      ],
      "text/latex": [
       "\\begin{tabular}{lrrr}\n",
       " & test_statistic & p & -log2(p) \\\\\n",
       "0 & 10.33 & 0.00 & 9.57 \\\\\n",
       "\\end{tabular}\n"
      ],
      "text/plain": [
       "<lifelines.StatisticalResult: logrank_test>\n",
       "               t_0 = -1\n",
       " null_distribution = chi squared\n",
       "degrees_of_freedom = 1\n",
       "         test_name = logrank_test\n",
       "\n",
       "---\n",
       " test_statistic      p  -log2(p)\n",
       "          10.33 <0.005      9.57"
      ]
     },
     "execution_count": 52,
     "metadata": {},
     "output_type": "execute_result"
    }
   ],
   "source": [
    "#Log_rank_test\n",
    "from lifelines.statistics import logrank_test\n",
    "logrank_test(durations_A = male.time, durations_B = female.time, \n",
    "         event_observed_A = male.status, event_observed_B = female.status)"
   ]
  },
  {
   "cell_type": "markdown",
   "id": "6f50975d",
   "metadata": {},
   "source": [
    "Here we have that test results and we see here that the p value, it is very, very low.So this means that there are some differences between both groups, which for me, they do make sense given all the curves or all little."
   ]
  },
  {
   "cell_type": "code",
   "execution_count": null,
   "id": "c4ccf6e0",
   "metadata": {},
   "outputs": [],
   "source": []
  }
 ],
 "metadata": {
  "kernelspec": {
   "display_name": "Python 3 (ipykernel)",
   "language": "python",
   "name": "python3"
  },
  "language_info": {
   "codemirror_mode": {
    "name": "ipython",
    "version": 3
   },
   "file_extension": ".py",
   "mimetype": "text/x-python",
   "name": "python",
   "nbconvert_exporter": "python",
   "pygments_lexer": "ipython3",
   "version": "3.10.9"
  }
 },
 "nbformat": 4,
 "nbformat_minor": 5
}
